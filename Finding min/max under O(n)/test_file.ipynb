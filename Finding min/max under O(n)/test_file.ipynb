{
 "cells": [
  {
   "attachments": {},
   "cell_type": "markdown",
   "metadata": {},
   "source": [
    "# Test the almost min function, including performance\n",
    "\n",
    "Find the almost minimum of a large array, in $\\sqrt{n}(log(n))$ time. Created an array of $list\\_size$ size with values ranging from $min\\_int$ to $max\\_int$. The sample size to calculate the mean error of this algorithm is $n\\_time$"
   ]
  },
  {
   "cell_type": "code",
   "execution_count": 17,
   "metadata": {},
   "outputs": [],
   "source": [
    "import random as rand\n",
    "import statistics\n",
    "import math\n",
    "import almost_min_file\n",
    "def test_almost_min(n_time, list_size, min_int, max_int):\n",
    "    err = [0]*n_time\n",
    "    # find mean error in n_time calculations\n",
    "    for x in range(n_time):\n",
    "        list_in = [0]*list_size\n",
    "        real_min = math.inf\n",
    "        for i in range(list_size):\n",
    "            list_in[i]= rand.randint(min_int,max_int)\n",
    "            real_min = min(real_min,list_in[i])\n",
    "        err[x]= (real_min-almost_min_file.almost_min(list_in))\n",
    "    print(\"Average error in a list of size\",list_size,\"with range\",min_int,\"to\",max_int,\"is =\",\n",
    "        statistics.mean(err),\"\\n\\twith sample size\",n_time)\n",
    "    "
   ]
  },
  {
   "attachments": {},
   "cell_type": "markdown",
   "metadata": {},
   "source": [
    "# Find errors, with different parameters\n",
    "For now, test with different ranges, [0,10],[0,100] ... [0,10000]. On an array size of 10000, with a sample size of 100."
   ]
  },
  {
   "cell_type": "code",
   "execution_count": 23,
   "metadata": {},
   "outputs": [
    {
     "name": "stdout",
     "output_type": "stream",
     "text": [
      "Average error in a list of size 10000 with range 0 to 10 is = 0 \n",
      "\twith sample size 100\n",
      "Average error in a list of size 10000 with range 0 to 100 is = -2.45 \n",
      "\twith sample size 100\n",
      "Average error in a list of size 10000 with range 0 to 1000 is = -29.89 \n",
      "\twith sample size 100\n",
      "Average error in a list of size 10000 with range 0 to 10000 is = -264.59 \n",
      "\twith sample size 100\n"
     ]
    }
   ],
   "source": [
    "for i in range(1,5):\n",
    "    test_almost_min(100,10000,0,10**i)"
   ]
  }
 ],
 "metadata": {
  "kernelspec": {
   "display_name": "Python 3",
   "language": "python",
   "name": "python3"
  },
  "language_info": {
   "codemirror_mode": {
    "name": "ipython",
    "version": 3
   },
   "file_extension": ".py",
   "mimetype": "text/x-python",
   "name": "python",
   "nbconvert_exporter": "python",
   "pygments_lexer": "ipython3",
   "version": "3.8.5"
  },
  "orig_nbformat": 4
 },
 "nbformat": 4,
 "nbformat_minor": 2
}
